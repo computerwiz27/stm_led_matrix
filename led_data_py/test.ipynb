{
 "cells": [
  {
   "cell_type": "code",
   "execution_count": 9,
   "metadata": {},
   "outputs": [],
   "source": [
    "import numpy as np"
   ]
  },
  {
   "cell_type": "code",
   "execution_count": 10,
   "metadata": {},
   "outputs": [],
   "source": [
    "color = {\n",
    "    \"r\" : 0,\n",
    "    \"g\" : 0,\n",
    "    \"b\" : 0\n",
    "}"
   ]
  },
  {
   "cell_type": "code",
   "execution_count": 12,
   "metadata": {},
   "outputs": [],
   "source": [
    "def unravelLedTower(matrix: np.array):\n",
    "    height = matrix.shape[1]\n",
    "    width = matrix.shape[2]\n",
    "    depth = matrix.shape[0]\n",
    "\n",
    "    h = height - 1\n",
    "    w = d = 0\n",
    "    verDir = -1\n",
    "    horDir = 1\n",
    "\n",
    "    array = []\n",
    "    arrLen = height * width * depth\n",
    "    index = 0\n",
    "    while index < arrLen:\n",
    "        array.append(matrix[d, h, w])\n",
    "        index += 1\n",
    "        w += horDir\n",
    "        if index % width == 0:\n",
    "            h += verDir\n",
    "            w -= horDir\n",
    "            horDir *= -1\n",
    "            if index % (height * width) == 0:\n",
    "                d += 1\n",
    "                h -= verDir\n",
    "                verDir *= -1\n",
    "    \n",
    "    return array"
   ]
  },
  {
   "cell_type": "code",
   "execution_count": 18,
   "metadata": {},
   "outputs": [
    {
     "ename": "TypeError",
     "evalue": "LedMatrix.__initMatrix() takes 3 positional arguments but 4 were given",
     "output_type": "error",
     "traceback": [
      "\u001b[1;31m---------------------------------------------------------------------------\u001b[0m",
      "\u001b[1;31mTypeError\u001b[0m                                 Traceback (most recent call last)",
      "Cell \u001b[1;32mIn[18], line 63\u001b[0m\n\u001b[0;32m     59\u001b[0m                     verDir \u001b[39m*\u001b[39m\u001b[39m=\u001b[39m \u001b[39m-\u001b[39m\u001b[39m1\u001b[39m\n\u001b[0;32m     61\u001b[0m         \u001b[39mreturn\u001b[39;00m array\n\u001b[1;32m---> 63\u001b[0m matrix \u001b[39m=\u001b[39m LedMatrix((\u001b[39m4\u001b[39;49m, \u001b[39m4\u001b[39;49m, \u001b[39m4\u001b[39;49m), (\u001b[39m2\u001b[39;49m, \u001b[39m2\u001b[39;49m))\n\u001b[0;32m     64\u001b[0m \u001b[39mprint\u001b[39m(matrix\u001b[39m.\u001b[39mledTowers[\u001b[39m0\u001b[39m,\u001b[39m0\u001b[39m][\u001b[39m0\u001b[39m,\u001b[39m0\u001b[39m,\u001b[39m0\u001b[39m])\n",
      "Cell \u001b[1;32mIn[18], line 6\u001b[0m, in \u001b[0;36mLedMatrix.__init__\u001b[1;34m(this, shape, ledTowersShape)\u001b[0m\n\u001b[0;32m      5\u001b[0m \u001b[39mdef\u001b[39;00m \u001b[39m__init__\u001b[39m(this, shape \u001b[39m=\u001b[39m (\u001b[39m16\u001b[39m,\u001b[39m16\u001b[39m,\u001b[39m16\u001b[39m), ledTowersShape \u001b[39m=\u001b[39m (\u001b[39m4\u001b[39m,\u001b[39m4\u001b[39m)):\n\u001b[1;32m----> 6\u001b[0m     this\u001b[39m.\u001b[39mmatrix \u001b[39m=\u001b[39m this\u001b[39m.\u001b[39;49m__initMatrix(shape[\u001b[39m0\u001b[39;49m], shape[\u001b[39m1\u001b[39;49m], shape[\u001b[39m2\u001b[39;49m])\n\u001b[0;32m      8\u001b[0m     towerWidth \u001b[39m=\u001b[39m \u001b[39mint\u001b[39m(shape[\u001b[39m1\u001b[39m] \u001b[39m/\u001b[39m ledTowersShape[\u001b[39m0\u001b[39m])\n\u001b[0;32m      9\u001b[0m     towerDepth \u001b[39m=\u001b[39m \u001b[39mint\u001b[39m(shape[\u001b[39m2\u001b[39m] \u001b[39m/\u001b[39m ledTowersShape[\u001b[39m1\u001b[39m])\n",
      "\u001b[1;31mTypeError\u001b[0m: LedMatrix.__initMatrix() takes 3 positional arguments but 4 were given"
     ]
    }
   ],
   "source": [
    "class LedMatrix:\n",
    "    matrix: np.array\n",
    "    ledTowers: np.array\n",
    "\n",
    "    def __init__(this, shape = (16,16,16), ledTowersShape = (4,4)):\n",
    "        this.matrix = this.__initMatrix(shape[0], shape[1], shape[2])\n",
    "        \n",
    "        towerWidth = int(shape[1] / ledTowersShape[0])\n",
    "        towerDepth = int(shape[2] / ledTowersShape[1])\n",
    "        ledTowers = []\n",
    "        for i in range(ledTowersShape[1]):\n",
    "            ledTowerRow = []\n",
    "            for j in range(ledTowersShape[0]):\n",
    "                ledTower = this.matrix[\n",
    "                    towerDepth * i : towerDepth * (i + 1), \n",
    "                    0 : shape[0], \n",
    "                    towerWidth * j : towerWidth * (j + 1)\n",
    "                ]\n",
    "                ledTowerRow.append(ledTower)\n",
    "            ledTowers.append(ledTowerRow)\n",
    "        this.ledTowers = np.array(ledTowers)\n",
    "\n",
    "    def __initMatrix(this, height: int, width: int, depth: int): \n",
    "        matrix = []\n",
    "        for _ in range(height):\n",
    "            face = []\n",
    "            for _ in range(width):\n",
    "                row = []\n",
    "                for _ in range(depth):\n",
    "                    row.append(color)\n",
    "                face.append(row)\n",
    "            matrix.append(face)\n",
    "        return np.array(matrix)\n",
    "    \n",
    "    def __unravelTower(matrix: np.array):\n",
    "        height = matrix.shape[1]\n",
    "        width = matrix.shape[2]\n",
    "        depth = matrix.shape[0]\n",
    "\n",
    "        h = height - 1\n",
    "        w = d = 0\n",
    "        verDir = -1\n",
    "        horDir = 1\n",
    "\n",
    "        array = []\n",
    "        arrLen = height * width * depth\n",
    "        index = 0\n",
    "        while index < arrLen:\n",
    "            array.append(matrix[d, h, w])\n",
    "            index += 1\n",
    "            w += horDir\n",
    "            if index % width == 0:\n",
    "                h += verDir\n",
    "                w -= horDir\n",
    "                horDir *= -1\n",
    "                if index % (height * width) == 0:\n",
    "                    d += 1\n",
    "                    h -= verDir\n",
    "                    verDir *= -1\n",
    "        \n",
    "        return array\n",
    "\n",
    "matrix = LedMatrix((4, 4, 4), (2, 2))\n",
    "print(matrix.ledTowers[0,0][0,0,0])\n"
   ]
  },
  {
   "cell_type": "code",
   "execution_count": 8,
   "metadata": {},
   "outputs": [
    {
     "name": "stdout",
     "output_type": "stream",
     "text": [
      "(4, 16, 4)\n"
     ]
    }
   ],
   "source": [
    "matrix = initMatrix()\n",
    "ledarr = unravelLedTower(matrix)\n",
    "print(matrix.shape)"
   ]
  }
 ],
 "metadata": {
  "kernelspec": {
   "display_name": "Python 3",
   "language": "python",
   "name": "python3"
  },
  "language_info": {
   "codemirror_mode": {
    "name": "ipython",
    "version": 3
   },
   "file_extension": ".py",
   "mimetype": "text/x-python",
   "name": "python",
   "nbconvert_exporter": "python",
   "pygments_lexer": "ipython3",
   "version": "3.11.4"
  },
  "orig_nbformat": 4
 },
 "nbformat": 4,
 "nbformat_minor": 2
}
